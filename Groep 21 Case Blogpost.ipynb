{
 "cells": [
  {
   "cell_type": "markdown",
   "id": "b8138f01",
   "metadata": {},
   "source": [
    "# Groep 20&21 Case 2"
   ]
  },
  {
   "cell_type": "markdown",
   "id": "6add49a6",
   "metadata": {},
   "source": [
    "##### team:  Julius Feenstra, Boris Kuipers, Giel Suweijn, Semih Önel"
   ]
  },
  {
   "cell_type": "markdown",
   "id": "8ad59527",
   "metadata": {},
   "source": [
    "## alles inladen "
   ]
  },
  {
   "cell_type": "code",
   "execution_count": 1,
   "id": "0a97add9",
   "metadata": {},
   "outputs": [],
   "source": [
    "#pip install streamlit"
   ]
  },
  {
   "cell_type": "code",
   "execution_count": 2,
   "id": "d324adc6",
   "metadata": {},
   "outputs": [
    {
     "name": "stderr",
     "output_type": "stream",
     "text": [
      "2022-09-29 17:47:43.741 INFO    numexpr.utils: NumExpr defaulting to 8 threads.\n"
     ]
    }
   ],
   "source": [
    "import streamlit as st\n",
    "import pandas as pd\n",
    "import numpy as np\n",
    "from pandas import json_normalize\n",
    "import requests\n",
    "import plotly.express as px\n",
    "import plotly.graph_objects as go\n",
    "pd.set_option('display.float_format', lambda x: '%.1f' % x)"
   ]
  },
  {
   "cell_type": "markdown",
   "id": "08d4d88c",
   "metadata": {},
   "source": [
    "## Data inladen"
   ]
  },
  {
   "cell_type": "markdown",
   "id": "750b812a",
   "metadata": {},
   "source": [
    "#### Landbouw-data inladen (API)"
   ]
  },
  {
   "cell_type": "code",
   "execution_count": 3,
   "id": "a92160df",
   "metadata": {},
   "outputs": [],
   "source": [
    "r1 = requests.get('https://opendata.cbs.nl/ODataApi/odata/84075NED/Landbouwproductie')\n",
    "x1 = r1.json()\n",
    "df1 = pd.DataFrame(x1['value'])\n",
    "\n",
    "r2 = requests.get('https://opendata.cbs.nl/ODataApi/odata/84075NED/Perioden')\n",
    "x2 = r2.json()\n",
    "df2 = pd.DataFrame(x2['value'])\n",
    "\n",
    "r3 = requests.get('https://opendata.cbs.nl/ODataApi/odata/84075NED/TypedDataSet')\n",
    "x3 = r3.json()\n",
    "df3 = pd.DataFrame(x3['value'])"
   ]
  },
  {
   "cell_type": "markdown",
   "id": "141450fd",
   "metadata": {},
   "source": [
    "#### KNMI-data inladen "
   ]
  },
  {
   "cell_type": "code",
   "execution_count": 4,
   "id": "fe0c0466",
   "metadata": {},
   "outputs": [],
   "source": [
    "weer = pd.read_csv('result.csv')"
   ]
  },
  {
   "cell_type": "markdown",
   "id": "3446394c",
   "metadata": {},
   "source": [
    "## Data bewerken "
   ]
  },
  {
   "cell_type": "markdown",
   "id": "67bfcf55",
   "metadata": {},
   "source": [
    "#### Landbouw-data inladen (API)"
   ]
  },
  {
   "cell_type": "code",
   "execution_count": 5,
   "id": "d1019288",
   "metadata": {},
   "outputs": [],
   "source": [
    "df1 = df1[[\"Key\", \"Title\"]]\n",
    "df1.columns = ['Landbouwproductie', 'producten']\n",
    "\n",
    "df2.columns = ['Perioden', 'Jaar', \"toevoeging\", \"Status\"]"
   ]
  },
  {
   "cell_type": "code",
   "execution_count": 6,
   "id": "a08bd177",
   "metadata": {},
   "outputs": [],
   "source": [
    "data_stap1 = df3.merge(df1, on='Landbouwproductie')\n",
    "data = data_stap1.merge(df2, on='Perioden')\n",
    "data = data.drop([\"ID\", \"Perioden\", \"Landbouwproductie\", \"toevoeging\", \"Status\"], axis=1)\n",
    "data = data[data['Jaar'] != '2021']\n",
    "data.columns = ['Hoeveelheid' , 'Eenheid', 'Product', 'Jaar']"
   ]
  },
  {
   "cell_type": "code",
   "execution_count": 7,
   "id": "743bb0ea",
   "metadata": {},
   "outputs": [],
   "source": [
    "weer.columns=['De Bilt', 'Datum','Wind','Temperatuur','Zon','Neerslag','Luchtvochtigheid %']\n",
    "weer['Datum'] = pd.to_datetime(weer['Datum'], format='%Y%m%d')\n",
    "weer[\"Jaar\"] = weer['Datum'].dt.year"
   ]
  },
  {
   "cell_type": "code",
   "execution_count": 8,
   "id": "65d46caa",
   "metadata": {},
   "outputs": [],
   "source": [
    "Wind = weer.groupby(weer['Jaar'])['Wind'].agg(['mean', 'max', 'min', 'sum'])\n",
    "Wind['type'] = 'Wind'\n",
    "Temperatuur = weer.groupby(weer['Jaar'])['Temperatuur'].agg(['mean', 'max', 'min', 'sum'])\n",
    "Temperatuur['type'] = 'Temperatuur'\n",
    "Zon = weer.groupby(weer['Jaar'])['Zon'].agg(['mean', 'max', 'min', 'sum'])\n",
    "Zon['type'] = 'Zon'\n",
    "Neerslag = weer.groupby(weer['Jaar'])['Neerslag'].agg(['mean', 'max', 'min', 'sum'])\n",
    "Neerslag['type'] = 'Neerslag'\n",
    "Luchtvochtigheid = weer.groupby(weer['Jaar'])['Luchtvochtigheid %'].agg(['mean', 'max', 'min', 'sum'])\n",
    "Luchtvochtigheid['type'] = 'Luchtvochtigheid %'\n",
    "\n",
    "natuur = pd.concat([Wind, Temperatuur, Zon, Neerslag, Luchtvochtigheid], axis='rows')\n",
    "natuur.reset_index(inplace=True)\n",
    "natuur.columns = ['Jaar', 'Gemiddelde', 'Maximum', 'Minimum', 'Totaal', 'Type']"
   ]
  },
  {
   "cell_type": "markdown",
   "id": "292155f3",
   "metadata": {},
   "source": [
    "## De data"
   ]
  },
  {
   "cell_type": "code",
   "execution_count": 9,
   "id": "36dfdce1",
   "metadata": {},
   "outputs": [
    {
     "data": {
      "text/html": [
       "<div>\n",
       "<style scoped>\n",
       "    .dataframe tbody tr th:only-of-type {\n",
       "        vertical-align: middle;\n",
       "    }\n",
       "\n",
       "    .dataframe tbody tr th {\n",
       "        vertical-align: top;\n",
       "    }\n",
       "\n",
       "    .dataframe thead th {\n",
       "        text-align: right;\n",
       "    }\n",
       "</style>\n",
       "<table border=\"1\" class=\"dataframe\">\n",
       "  <thead>\n",
       "    <tr style=\"text-align: right;\">\n",
       "      <th></th>\n",
       "      <th>Hoeveelheid</th>\n",
       "      <th>Eenheid</th>\n",
       "      <th>Product</th>\n",
       "      <th>Jaar</th>\n",
       "    </tr>\n",
       "  </thead>\n",
       "  <tbody>\n",
       "    <tr>\n",
       "      <th>0</th>\n",
       "      <td>45739.0</td>\n",
       "      <td>1000 kg</td>\n",
       "      <td>Consumptieaardappelen (totaal)</td>\n",
       "      <td>2015</td>\n",
       "    </tr>\n",
       "    <tr>\n",
       "      <th>1</th>\n",
       "      <td>12621.0</td>\n",
       "      <td>1000 kg</td>\n",
       "      <td>Pootaardappelen (totaal)</td>\n",
       "      <td>2015</td>\n",
       "    </tr>\n",
       "    <tr>\n",
       "      <th>2</th>\n",
       "      <td>2979.0</td>\n",
       "      <td>1000 kg</td>\n",
       "      <td>Gerst (totaal)</td>\n",
       "      <td>2015</td>\n",
       "    </tr>\n",
       "    <tr>\n",
       "      <th>3</th>\n",
       "      <td>2148.0</td>\n",
       "      <td>1000 kg</td>\n",
       "      <td>Haver</td>\n",
       "      <td>2015</td>\n",
       "    </tr>\n",
       "    <tr>\n",
       "      <th>4</th>\n",
       "      <td>7769.0</td>\n",
       "      <td>1000 kg</td>\n",
       "      <td>Tarwe (totaal)</td>\n",
       "      <td>2015</td>\n",
       "    </tr>\n",
       "  </tbody>\n",
       "</table>\n",
       "</div>"
      ],
      "text/plain": [
       "   Hoeveelheid                Eenheid                         Product  Jaar\n",
       "0      45739.0  1000 kg                Consumptieaardappelen (totaal)  2015\n",
       "1      12621.0  1000 kg                      Pootaardappelen (totaal)  2015\n",
       "2       2979.0  1000 kg                                Gerst (totaal)  2015\n",
       "3       2148.0  1000 kg                                         Haver  2015\n",
       "4       7769.0  1000 kg                                Tarwe (totaal)  2015"
      ]
     },
     "execution_count": 9,
     "metadata": {},
     "output_type": "execute_result"
    }
   ],
   "source": [
    "data.head()"
   ]
  },
  {
   "cell_type": "code",
   "execution_count": 10,
   "id": "8207f899",
   "metadata": {},
   "outputs": [
    {
     "data": {
      "text/html": [
       "<div>\n",
       "<style scoped>\n",
       "    .dataframe tbody tr th:only-of-type {\n",
       "        vertical-align: middle;\n",
       "    }\n",
       "\n",
       "    .dataframe tbody tr th {\n",
       "        vertical-align: top;\n",
       "    }\n",
       "\n",
       "    .dataframe thead th {\n",
       "        text-align: right;\n",
       "    }\n",
       "</style>\n",
       "<table border=\"1\" class=\"dataframe\">\n",
       "  <thead>\n",
       "    <tr style=\"text-align: right;\">\n",
       "      <th></th>\n",
       "      <th>De Bilt</th>\n",
       "      <th>Datum</th>\n",
       "      <th>Wind</th>\n",
       "      <th>Temperatuur</th>\n",
       "      <th>Zon</th>\n",
       "      <th>Neerslag</th>\n",
       "      <th>Luchtvochtigheid %</th>\n",
       "      <th>Jaar</th>\n",
       "    </tr>\n",
       "  </thead>\n",
       "  <tbody>\n",
       "    <tr>\n",
       "      <th>0</th>\n",
       "      <td>260</td>\n",
       "      <td>2015-01-01</td>\n",
       "      <td>54</td>\n",
       "      <td>30</td>\n",
       "      <td>28</td>\n",
       "      <td>-1</td>\n",
       "      <td>79</td>\n",
       "      <td>2015</td>\n",
       "    </tr>\n",
       "    <tr>\n",
       "      <th>1</th>\n",
       "      <td>260</td>\n",
       "      <td>2015-01-02</td>\n",
       "      <td>61</td>\n",
       "      <td>73</td>\n",
       "      <td>44</td>\n",
       "      <td>43</td>\n",
       "      <td>72</td>\n",
       "      <td>2015</td>\n",
       "    </tr>\n",
       "    <tr>\n",
       "      <th>2</th>\n",
       "      <td>260</td>\n",
       "      <td>2015-01-03</td>\n",
       "      <td>33</td>\n",
       "      <td>38</td>\n",
       "      <td>0</td>\n",
       "      <td>15</td>\n",
       "      <td>87</td>\n",
       "      <td>2015</td>\n",
       "    </tr>\n",
       "    <tr>\n",
       "      <th>3</th>\n",
       "      <td>260</td>\n",
       "      <td>2015-01-04</td>\n",
       "      <td>24</td>\n",
       "      <td>39</td>\n",
       "      <td>57</td>\n",
       "      <td>-1</td>\n",
       "      <td>81</td>\n",
       "      <td>2015</td>\n",
       "    </tr>\n",
       "    <tr>\n",
       "      <th>4</th>\n",
       "      <td>260</td>\n",
       "      <td>2015-01-05</td>\n",
       "      <td>30</td>\n",
       "      <td>24</td>\n",
       "      <td>5</td>\n",
       "      <td>0</td>\n",
       "      <td>89</td>\n",
       "      <td>2015</td>\n",
       "    </tr>\n",
       "  </tbody>\n",
       "</table>\n",
       "</div>"
      ],
      "text/plain": [
       "   De Bilt      Datum  Wind  Temperatuur  Zon  Neerslag  Luchtvochtigheid %  \\\n",
       "0      260 2015-01-01    54           30   28        -1                  79   \n",
       "1      260 2015-01-02    61           73   44        43                  72   \n",
       "2      260 2015-01-03    33           38    0        15                  87   \n",
       "3      260 2015-01-04    24           39   57        -1                  81   \n",
       "4      260 2015-01-05    30           24    5         0                  89   \n",
       "\n",
       "   Jaar  \n",
       "0  2015  \n",
       "1  2015  \n",
       "2  2015  \n",
       "3  2015  \n",
       "4  2015  "
      ]
     },
     "execution_count": 10,
     "metadata": {},
     "output_type": "execute_result"
    }
   ],
   "source": [
    "weer.head()"
   ]
  },
  {
   "cell_type": "code",
   "execution_count": 11,
   "id": "ba739323",
   "metadata": {},
   "outputs": [
    {
     "data": {
      "text/html": [
       "<div>\n",
       "<style scoped>\n",
       "    .dataframe tbody tr th:only-of-type {\n",
       "        vertical-align: middle;\n",
       "    }\n",
       "\n",
       "    .dataframe tbody tr th {\n",
       "        vertical-align: top;\n",
       "    }\n",
       "\n",
       "    .dataframe thead th {\n",
       "        text-align: right;\n",
       "    }\n",
       "</style>\n",
       "<table border=\"1\" class=\"dataframe\">\n",
       "  <thead>\n",
       "    <tr style=\"text-align: right;\">\n",
       "      <th></th>\n",
       "      <th>Jaar</th>\n",
       "      <th>Gemiddelde</th>\n",
       "      <th>Maximum</th>\n",
       "      <th>Minimum</th>\n",
       "      <th>Totaal</th>\n",
       "      <th>Type</th>\n",
       "    </tr>\n",
       "  </thead>\n",
       "  <tbody>\n",
       "    <tr>\n",
       "      <th>0</th>\n",
       "      <td>2015</td>\n",
       "      <td>35.8</td>\n",
       "      <td>94</td>\n",
       "      <td>12</td>\n",
       "      <td>13081</td>\n",
       "      <td>Wind</td>\n",
       "    </tr>\n",
       "    <tr>\n",
       "      <th>1</th>\n",
       "      <td>2016</td>\n",
       "      <td>32.7</td>\n",
       "      <td>97</td>\n",
       "      <td>7</td>\n",
       "      <td>11983</td>\n",
       "      <td>Wind</td>\n",
       "    </tr>\n",
       "    <tr>\n",
       "      <th>2</th>\n",
       "      <td>2017</td>\n",
       "      <td>32.5</td>\n",
       "      <td>83</td>\n",
       "      <td>10</td>\n",
       "      <td>11849</td>\n",
       "      <td>Wind</td>\n",
       "    </tr>\n",
       "    <tr>\n",
       "      <th>3</th>\n",
       "      <td>2018</td>\n",
       "      <td>33.7</td>\n",
       "      <td>94</td>\n",
       "      <td>9</td>\n",
       "      <td>12292</td>\n",
       "      <td>Wind</td>\n",
       "    </tr>\n",
       "    <tr>\n",
       "      <th>4</th>\n",
       "      <td>2019</td>\n",
       "      <td>33.3</td>\n",
       "      <td>81</td>\n",
       "      <td>10</td>\n",
       "      <td>12168</td>\n",
       "      <td>Wind</td>\n",
       "    </tr>\n",
       "  </tbody>\n",
       "</table>\n",
       "</div>"
      ],
      "text/plain": [
       "   Jaar  Gemiddelde  Maximum  Minimum  Totaal  Type\n",
       "0  2015        35.8       94       12   13081  Wind\n",
       "1  2016        32.7       97        7   11983  Wind\n",
       "2  2017        32.5       83       10   11849  Wind\n",
       "3  2018        33.7       94        9   12292  Wind\n",
       "4  2019        33.3       81       10   12168  Wind"
      ]
     },
     "execution_count": 11,
     "metadata": {},
     "output_type": "execute_result"
    }
   ],
   "source": [
    "natuur.head()"
   ]
  },
  {
   "cell_type": "code",
   "execution_count": 12,
   "id": "064e7106",
   "metadata": {},
   "outputs": [],
   "source": [
    "##Gegevens in Streamlit zetten"
   ]
  },
  {
   "cell_type": "code",
   "execution_count": 13,
   "id": "df9fed3e",
   "metadata": {},
   "outputs": [
    {
     "name": "stderr",
     "output_type": "stream",
     "text": [
      "2022-09-29 17:47:48.780 \n",
      "  \u001b[33m\u001b[1mWarning:\u001b[0m to view this Streamlit app on a browser, run it with the following\n",
      "  command:\n",
      "\n",
      "    streamlit run C:\\Users\\xlnt\\anaconda3\\lib\\site-packages\\ipykernel_launcher.py [ARGUMENTS]\n"
     ]
    },
    {
     "data": {
      "text/plain": [
       "DeltaGenerator(_root_container=0, _provided_cursor=None, _parent=None, _block_type=None, _form_data=None)"
      ]
     },
     "execution_count": 13,
     "metadata": {},
     "output_type": "execute_result"
    }
   ],
   "source": [
    "st.title(\"Invloed van het weer op de landbouwoogst\")"
   ]
  },
  {
   "cell_type": "code",
   "execution_count": 14,
   "id": "b87169a7",
   "metadata": {},
   "outputs": [
    {
     "data": {
      "text/plain": [
       "DeltaGenerator(_root_container=0, _provided_cursor=None, _parent=None, _block_type=None, _form_data=None)"
      ]
     },
     "execution_count": 14,
     "metadata": {},
     "output_type": "execute_result"
    }
   ],
   "source": [
    "st.header('De data van de landbouw')\n",
    "st.dataframe(data)\n"
   ]
  },
  {
   "cell_type": "code",
   "execution_count": 15,
   "id": "5fbc30e7",
   "metadata": {},
   "outputs": [
    {
     "data": {
      "text/plain": [
       "DeltaGenerator(_root_container=0, _provided_cursor=None, _parent=None, _block_type=None, _form_data=None)"
      ]
     },
     "execution_count": 15,
     "metadata": {},
     "output_type": "execute_result"
    }
   ],
   "source": [
    "InputNatuur = st.sidebar.selectbox(\"type natuurverschijnsel\", (\"Wind\", \"Temperatuur\", \"Zon\", \"Neerslag\", \"Luchtvochtigheid %\"))\n",
    "NatuurSelect = natuur[natuur[\"Type\"] == InputNatuur]\n",
    "st.header('de data van het weer')\n",
    "st.dataframe(NatuurSelect)\n"
   ]
  },
  {
   "cell_type": "code",
   "execution_count": 16,
   "id": "e0f65b98",
   "metadata": {
    "scrolled": true
   },
   "outputs": [
    {
     "data": {
      "text/plain": [
       "DeltaGenerator(_root_container=0, _provided_cursor=None, _parent=None, _block_type=None, _form_data=None)"
      ]
     },
     "execution_count": 16,
     "metadata": {},
     "output_type": "execute_result"
    }
   ],
   "source": [
    "InputData = st.sidebar.selectbox(\"de eenheid\", (\"1000 kg\", \"stuks\", \"1000 kg karkasgewicht\"))\n",
    "DataSelect = data[data[\"Eenheid\"] == InputData]\n",
    "st.header('De data van de landbouw')\n",
    "st.dataframe(DataSelect)"
   ]
  },
  {
   "cell_type": "markdown",
   "id": "f5b251d6",
   "metadata": {},
   "source": [
    "# Gegevens in Streamlit zetten"
   ]
  },
  {
   "cell_type": "markdown",
   "id": "8f3df24e",
   "metadata": {},
   "source": [
    "## Dropdown-menu"
   ]
  },
  {
   "cell_type": "code",
   "execution_count": 17,
   "id": "35589e10",
   "metadata": {},
   "outputs": [],
   "source": [
    "aardappelen = data.loc[data['Product'] == \"Pootaardappelen (totaal)\"]\n",
    "haver = data.loc[data['Product'] == \"Haver\"]\n",
    "appels = data.loc[data['Product'] == \"Appels\"]\n",
    "broccoli = data.loc[data['Product'] == \"Broccoli\"]\n",
    "aardbeien = data.loc[data['Product'] == \"Aardbeien, productie\"]"
   ]
  },
  {
   "cell_type": "code",
   "execution_count": 18,
   "id": "842cd2d6",
   "metadata": {},
   "outputs": [
    {
     "data": {
      "text/plain": [
       "DeltaGenerator(_root_container=0, _provided_cursor=None, _parent=None, _block_type=None, _form_data=None)"
      ]
     },
     "execution_count": 18,
     "metadata": {},
     "output_type": "execute_result"
    }
   ],
   "source": [
    "fig = go.Figure()\n",
    "\n",
    "fig.add_trace(go.Bar(x=aardappelen['Jaar'],y=aardappelen['Hoeveelheid'],name='Aardappelen'))\n",
    "fig.add_trace(go.Bar(x=haver['Jaar'],y=haver['Hoeveelheid'],name='Haver'))\n",
    "fig.add_trace(go.Bar(x=appels['Jaar'],y=appels['Hoeveelheid'],name='Appels'))\n",
    "fig.add_trace(go.Bar(x=broccoli['Jaar'],y=broccoli['Hoeveelheid'],name='Broccoli'))\n",
    "fig.add_trace(go.Bar(x=aardbeien['Jaar'],y=aardbeien['Hoeveelheid'],name='Aardbeien'))\n",
    "\n",
    "dropdown_buttons = [\n",
    "    {'label': 'Aardappelen', 'method': 'update', \n",
    "    'args':[{'visible': [True,False,False,False,False]},\n",
    "            {'title': 'Aardappelen'}]},\n",
    "    {'label': 'Haver', 'method': 'update', \n",
    "    'args':[{'visible': [False,True,False,False,False]},\n",
    "            {'title': 'Haver'}]},\n",
    "    {'label': 'Appels', 'method': 'update', \n",
    "    'args':[{'visible': [False,False,True,False,False]},\n",
    "            {'title': 'Appels'}]},\n",
    "    {'label': 'Broccoli', 'method': 'update', \n",
    "    'args':[{'visible': [False,False,False,True,False]},\n",
    "            {'title': 'Broccoli'}]},\n",
    "    {'label': 'Aardbeien', 'method': 'update', \n",
    "    'args':[{'visible': [False,False,False,False,True]},\n",
    "            {'title': 'Aardbeien'}]},\n",
    "    \n",
    "]\n",
    "\n",
    "fig.update_layout({\n",
    "    'updatemenus':[{\n",
    "        'type': \"dropdown\",\n",
    "        'x': 1.3,\n",
    "        'y':0.5,\n",
    "        'showactive': True,\n",
    "        'active': 0,\n",
    "        'buttons': dropdown_buttons,\n",
    "    }]\n",
    "})\n",
    "fig.update_layout({\n",
    "        'yaxis': {'range': [0, 24000]}},\n",
    "title = 'Producten per jaar',\n",
    "xaxis_title_text='Jaar',\n",
    "yaxis_title_text='Hoeveelheid',\n",
    "width = 1000, height = 500,\n",
    ")\n",
    "st.plotly_chart(fig, use_container_width=True)"
   ]
  },
  {
   "cell_type": "markdown",
   "id": "ac9fd46e",
   "metadata": {},
   "source": [
    "## Slider"
   ]
  },
  {
   "cell_type": "code",
   "execution_count": 19,
   "id": "e8a61a16",
   "metadata": {},
   "outputs": [
    {
     "data": {
      "text/plain": [
       "DeltaGenerator(_root_container=0, _provided_cursor=None, _parent=None, _block_type=None, _form_data=None)"
      ]
     },
     "execution_count": 19,
     "metadata": {},
     "output_type": "execute_result"
    }
   ],
   "source": [
    "fig = px.histogram(data_frame=data, \n",
    "                   x = 'Hoeveelheid',\n",
    "                   y= 'Product', \n",
    "                   animation_frame= 'Jaar'\n",
    "                  )\n",
    "fig.update_layout({\n",
    "        'xaxis': {'range': [0, 100000]}},\n",
    "title = 'Producten per jaar',\n",
    "xaxis_title_text='Opbrengst',\n",
    "yaxis_title_text='Soort product',\n",
    "width = 1000, height = 500,\n",
    ")\n",
    "st.plotly_chart(fig, use_container_width=True)\n"
   ]
  },
  {
   "cell_type": "markdown",
   "id": "016406da",
   "metadata": {},
   "source": [
    "## Checkbox"
   ]
  },
  {
   "cell_type": "code",
   "execution_count": 20,
   "id": "9415508b",
   "metadata": {},
   "outputs": [],
   "source": [
    "data = data.drop(data[data.Product == 'Eieren voor consumptie'].index)\n",
    "fig = px.bar(data_frame = data,  x = 'Product', y = 'Hoeveelheid', color = 'Product')"
   ]
  },
  {
   "cell_type": "code",
   "execution_count": 21,
   "id": "67592014",
   "metadata": {},
   "outputs": [],
   "source": [
    "my_buttons = [{'label': \"Bar plot\", 'method': \"update\", 'args': [{\"type\": \"bar\"}]},\n",
    "{'label': \"scatter\", 'method': \"update\", 'args': [{\"type\": \"scatter\", 'mode': 'markers'}]}]"
   ]
  },
  {
   "cell_type": "code",
   "execution_count": 22,
   "id": "4a02ba4a",
   "metadata": {},
   "outputs": [
    {
     "data": {
      "text/plain": [
       "DeltaGenerator(_root_container=0, _provided_cursor=None, _parent=None, _block_type=None, _form_data=None)"
      ]
     },
     "execution_count": 22,
     "metadata": {},
     "output_type": "execute_result"
    }
   ],
   "source": [
    "fig.update_layout({\n",
    "    'updatemenus': [{\n",
    "      'type': \"buttons\",'direction': 'down',\n",
    "      'x': 1.3,'y': 0.5,\n",
    "      'showactive': True,'active': 0,\n",
    "      'buttons': my_buttons}]},\n",
    "title = 'Hoeveelheid per product')\n",
    "st.plotly_chart(fig, use_container_width=True)\n"
   ]
  },
  {
   "cell_type": "code",
   "execution_count": null,
   "id": "68210898",
   "metadata": {},
   "outputs": [],
   "source": []
  },
  {
   "cell_type": "code",
   "execution_count": null,
   "id": "34acbcee",
   "metadata": {},
   "outputs": [],
   "source": []
  }
 ],
 "metadata": {
  "kernelspec": {
   "display_name": "Python 3 (ipykernel)",
   "language": "python",
   "name": "python3"
  },
  "language_info": {
   "codemirror_mode": {
    "name": "ipython",
    "version": 3
   },
   "file_extension": ".py",
   "mimetype": "text/x-python",
   "name": "python",
   "nbconvert_exporter": "python",
   "pygments_lexer": "ipython3",
   "version": "3.9.12"
  }
 },
 "nbformat": 4,
 "nbformat_minor": 5
}
